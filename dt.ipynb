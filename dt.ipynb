{
 "cells": [
  {
   "cell_type": "code",
   "execution_count": 3,
   "metadata": {},
   "outputs": [],
   "source": [
    "import matplotlib as mpl\n",
    "import matplotlib\n",
    "import matplotlib.pyplot as plt\n",
    "import numpy as np\n",
    "import pandas as pd\n",
    "from __future__ import division\n",
    "%matplotlib inline\n",
    "mpl.rc('figure', figsize=[12,8])  #set the default figure size\n",
    "import itertools, random, math"
   ]
  },
  {
   "cell_type": "code",
   "execution_count": 23,
   "metadata": {},
   "outputs": [],
   "source": [
    "url = \"https://archive.ics.uci.edu/ml/machine-learning-databases/arrhythmia/arrhythmia.data\"\n",
    "df = pd.read_csv(url, header = None, na_values=\"?\")"
   ]
  },
  {
   "cell_type": "code",
   "execution_count": 24,
   "metadata": {},
   "outputs": [],
   "source": [
    "#df = pd.read_csv('./arrhythmia.csv', header=None, na_values=\"?\")"
   ]
  },
  {
   "cell_type": "code",
   "execution_count": 25,
   "metadata": {},
   "outputs": [
    {
     "data": {
      "text/html": [
       "<div>\n",
       "<style scoped>\n",
       "    .dataframe tbody tr th:only-of-type {\n",
       "        vertical-align: middle;\n",
       "    }\n",
       "\n",
       "    .dataframe tbody tr th {\n",
       "        vertical-align: top;\n",
       "    }\n",
       "\n",
       "    .dataframe thead th {\n",
       "        text-align: right;\n",
       "    }\n",
       "</style>\n",
       "<table border=\"1\" class=\"dataframe\">\n",
       "  <thead>\n",
       "    <tr style=\"text-align: right;\">\n",
       "      <th></th>\n",
       "      <th>0</th>\n",
       "      <th>1</th>\n",
       "      <th>2</th>\n",
       "      <th>3</th>\n",
       "      <th>4</th>\n",
       "      <th>5</th>\n",
       "      <th>6</th>\n",
       "      <th>7</th>\n",
       "      <th>8</th>\n",
       "      <th>9</th>\n",
       "      <th>...</th>\n",
       "      <th>270</th>\n",
       "      <th>271</th>\n",
       "      <th>272</th>\n",
       "      <th>273</th>\n",
       "      <th>274</th>\n",
       "      <th>275</th>\n",
       "      <th>276</th>\n",
       "      <th>277</th>\n",
       "      <th>278</th>\n",
       "      <th>279</th>\n",
       "    </tr>\n",
       "  </thead>\n",
       "  <tbody>\n",
       "    <tr>\n",
       "      <th>0</th>\n",
       "      <td>75</td>\n",
       "      <td>0</td>\n",
       "      <td>190</td>\n",
       "      <td>80</td>\n",
       "      <td>91</td>\n",
       "      <td>193</td>\n",
       "      <td>371</td>\n",
       "      <td>174</td>\n",
       "      <td>121</td>\n",
       "      <td>-16</td>\n",
       "      <td>...</td>\n",
       "      <td>0.0</td>\n",
       "      <td>9.0</td>\n",
       "      <td>-0.9</td>\n",
       "      <td>0.0</td>\n",
       "      <td>0.0</td>\n",
       "      <td>0.9</td>\n",
       "      <td>2.9</td>\n",
       "      <td>23.3</td>\n",
       "      <td>49.4</td>\n",
       "      <td>8</td>\n",
       "    </tr>\n",
       "    <tr>\n",
       "      <th>1</th>\n",
       "      <td>56</td>\n",
       "      <td>1</td>\n",
       "      <td>165</td>\n",
       "      <td>64</td>\n",
       "      <td>81</td>\n",
       "      <td>174</td>\n",
       "      <td>401</td>\n",
       "      <td>149</td>\n",
       "      <td>39</td>\n",
       "      <td>25</td>\n",
       "      <td>...</td>\n",
       "      <td>0.0</td>\n",
       "      <td>8.5</td>\n",
       "      <td>0.0</td>\n",
       "      <td>0.0</td>\n",
       "      <td>0.0</td>\n",
       "      <td>0.2</td>\n",
       "      <td>2.1</td>\n",
       "      <td>20.4</td>\n",
       "      <td>38.8</td>\n",
       "      <td>6</td>\n",
       "    </tr>\n",
       "    <tr>\n",
       "      <th>2</th>\n",
       "      <td>54</td>\n",
       "      <td>0</td>\n",
       "      <td>172</td>\n",
       "      <td>95</td>\n",
       "      <td>138</td>\n",
       "      <td>163</td>\n",
       "      <td>386</td>\n",
       "      <td>185</td>\n",
       "      <td>102</td>\n",
       "      <td>96</td>\n",
       "      <td>...</td>\n",
       "      <td>0.0</td>\n",
       "      <td>9.5</td>\n",
       "      <td>-2.4</td>\n",
       "      <td>0.0</td>\n",
       "      <td>0.0</td>\n",
       "      <td>0.3</td>\n",
       "      <td>3.4</td>\n",
       "      <td>12.3</td>\n",
       "      <td>49.0</td>\n",
       "      <td>10</td>\n",
       "    </tr>\n",
       "    <tr>\n",
       "      <th>3</th>\n",
       "      <td>55</td>\n",
       "      <td>0</td>\n",
       "      <td>175</td>\n",
       "      <td>94</td>\n",
       "      <td>100</td>\n",
       "      <td>202</td>\n",
       "      <td>380</td>\n",
       "      <td>179</td>\n",
       "      <td>143</td>\n",
       "      <td>28</td>\n",
       "      <td>...</td>\n",
       "      <td>0.0</td>\n",
       "      <td>12.2</td>\n",
       "      <td>-2.2</td>\n",
       "      <td>0.0</td>\n",
       "      <td>0.0</td>\n",
       "      <td>0.4</td>\n",
       "      <td>2.6</td>\n",
       "      <td>34.6</td>\n",
       "      <td>61.6</td>\n",
       "      <td>1</td>\n",
       "    </tr>\n",
       "    <tr>\n",
       "      <th>4</th>\n",
       "      <td>75</td>\n",
       "      <td>0</td>\n",
       "      <td>190</td>\n",
       "      <td>80</td>\n",
       "      <td>88</td>\n",
       "      <td>181</td>\n",
       "      <td>360</td>\n",
       "      <td>177</td>\n",
       "      <td>103</td>\n",
       "      <td>-16</td>\n",
       "      <td>...</td>\n",
       "      <td>0.0</td>\n",
       "      <td>13.1</td>\n",
       "      <td>-3.6</td>\n",
       "      <td>0.0</td>\n",
       "      <td>0.0</td>\n",
       "      <td>-0.1</td>\n",
       "      <td>3.9</td>\n",
       "      <td>25.4</td>\n",
       "      <td>62.8</td>\n",
       "      <td>7</td>\n",
       "    </tr>\n",
       "  </tbody>\n",
       "</table>\n",
       "<p>5 rows × 280 columns</p>\n",
       "</div>"
      ],
      "text/plain": [
       "   0    1    2    3    4    5    6    7    8    9   ...   270   271  272  273  \\\n",
       "0   75    0  190   80   91  193  371  174  121  -16 ...   0.0   9.0 -0.9  0.0   \n",
       "1   56    1  165   64   81  174  401  149   39   25 ...   0.0   8.5  0.0  0.0   \n",
       "2   54    0  172   95  138  163  386  185  102   96 ...   0.0   9.5 -2.4  0.0   \n",
       "3   55    0  175   94  100  202  380  179  143   28 ...   0.0  12.2 -2.2  0.0   \n",
       "4   75    0  190   80   88  181  360  177  103  -16 ...   0.0  13.1 -3.6  0.0   \n",
       "\n",
       "   274  275  276   277   278  279  \n",
       "0  0.0  0.9  2.9  23.3  49.4    8  \n",
       "1  0.0  0.2  2.1  20.4  38.8    6  \n",
       "2  0.0  0.3  3.4  12.3  49.0   10  \n",
       "3  0.0  0.4  2.6  34.6  61.6    1  \n",
       "4  0.0 -0.1  3.9  25.4  62.8    7  \n",
       "\n",
       "[5 rows x 280 columns]"
      ]
     },
     "execution_count": 25,
     "metadata": {},
     "output_type": "execute_result"
    }
   ],
   "source": [
    "df.head()"
   ]
  },
  {
   "cell_type": "code",
   "execution_count": 26,
   "metadata": {},
   "outputs": [
    {
     "data": {
      "text/plain": [
       "Int64Index([  0,   1,   2,   3,   4,   5,   6,   7,   8,   9,\n",
       "            ...\n",
       "            270, 271, 272, 273, 274, 275, 276, 277, 278, 279],\n",
       "           dtype='int64', length=280)"
      ]
     },
     "execution_count": 26,
     "metadata": {},
     "output_type": "execute_result"
    }
   ],
   "source": [
    "df.columns"
   ]
  },
  {
   "cell_type": "code",
   "execution_count": 27,
   "metadata": {},
   "outputs": [
    {
     "data": {
      "text/plain": [
       "{1, 2, 3, 4, 5, 6, 7, 8, 9, 10, 14, 15, 16}"
      ]
     },
     "execution_count": 27,
     "metadata": {},
     "output_type": "execute_result"
    }
   ],
   "source": [
    "# Find the values of the class variable (the Y value)\n",
    "set(df.iloc[:,279])"
   ]
  },
  {
   "cell_type": "code",
   "execution_count": 28,
   "metadata": {},
   "outputs": [
    {
     "data": {
      "text/plain": [
       "1     245\n",
       "10     50\n",
       "2      44\n",
       "6      25\n",
       "16     22\n",
       "4      15\n",
       "3      15\n",
       "5      13\n",
       "9       9\n",
       "15      5\n",
       "14      4\n",
       "7       3\n",
       "8       2\n",
       "Name: 279, dtype: int64"
      ]
     },
     "execution_count": 28,
     "metadata": {},
     "output_type": "execute_result"
    }
   ],
   "source": [
    "# Find the number of examples for each class\n",
    "df.iloc[:,279].value_counts()"
   ]
  },
  {
   "cell_type": "code",
   "execution_count": 29,
   "metadata": {},
   "outputs": [
    {
     "name": "stdout",
     "output_type": "stream",
     "text": [
      "10\n",
      "11\n",
      "12\n",
      "13\n",
      "14\n"
     ]
    }
   ],
   "source": [
    "# Replace each missing value with the mode\n",
    "#\n",
    "# The preferred pandas function for finding missing values is isnull()\n",
    "for i in range(280):\n",
    "    if df[i].isnull().sum() > 0:\n",
    "        print(i)\n",
    "        df.iloc[:,i].fillna(df[i].mode()[0], inplace=True)"
   ]
  },
  {
   "cell_type": "code",
   "execution_count": 30,
   "metadata": {},
   "outputs": [],
   "source": [
    "# Create small data set to use for debugging and testing\n",
    "dsmall = df.iloc[0:10, list(range(3)) + [279]]"
   ]
  },
  {
   "cell_type": "code",
   "execution_count": 31,
   "metadata": {},
   "outputs": [
    {
     "data": {
      "text/html": [
       "<div>\n",
       "<style scoped>\n",
       "    .dataframe tbody tr th:only-of-type {\n",
       "        vertical-align: middle;\n",
       "    }\n",
       "\n",
       "    .dataframe tbody tr th {\n",
       "        vertical-align: top;\n",
       "    }\n",
       "\n",
       "    .dataframe thead th {\n",
       "        text-align: right;\n",
       "    }\n",
       "</style>\n",
       "<table border=\"1\" class=\"dataframe\">\n",
       "  <thead>\n",
       "    <tr style=\"text-align: right;\">\n",
       "      <th></th>\n",
       "      <th>0</th>\n",
       "      <th>1</th>\n",
       "      <th>2</th>\n",
       "      <th>279</th>\n",
       "    </tr>\n",
       "  </thead>\n",
       "  <tbody>\n",
       "    <tr>\n",
       "      <th>0</th>\n",
       "      <td>75</td>\n",
       "      <td>0</td>\n",
       "      <td>190</td>\n",
       "      <td>8</td>\n",
       "    </tr>\n",
       "    <tr>\n",
       "      <th>1</th>\n",
       "      <td>56</td>\n",
       "      <td>1</td>\n",
       "      <td>165</td>\n",
       "      <td>6</td>\n",
       "    </tr>\n",
       "    <tr>\n",
       "      <th>2</th>\n",
       "      <td>54</td>\n",
       "      <td>0</td>\n",
       "      <td>172</td>\n",
       "      <td>10</td>\n",
       "    </tr>\n",
       "    <tr>\n",
       "      <th>3</th>\n",
       "      <td>55</td>\n",
       "      <td>0</td>\n",
       "      <td>175</td>\n",
       "      <td>1</td>\n",
       "    </tr>\n",
       "    <tr>\n",
       "      <th>4</th>\n",
       "      <td>75</td>\n",
       "      <td>0</td>\n",
       "      <td>190</td>\n",
       "      <td>7</td>\n",
       "    </tr>\n",
       "    <tr>\n",
       "      <th>5</th>\n",
       "      <td>13</td>\n",
       "      <td>0</td>\n",
       "      <td>169</td>\n",
       "      <td>14</td>\n",
       "    </tr>\n",
       "    <tr>\n",
       "      <th>6</th>\n",
       "      <td>40</td>\n",
       "      <td>1</td>\n",
       "      <td>160</td>\n",
       "      <td>1</td>\n",
       "    </tr>\n",
       "    <tr>\n",
       "      <th>7</th>\n",
       "      <td>49</td>\n",
       "      <td>1</td>\n",
       "      <td>162</td>\n",
       "      <td>1</td>\n",
       "    </tr>\n",
       "    <tr>\n",
       "      <th>8</th>\n",
       "      <td>44</td>\n",
       "      <td>0</td>\n",
       "      <td>168</td>\n",
       "      <td>1</td>\n",
       "    </tr>\n",
       "    <tr>\n",
       "      <th>9</th>\n",
       "      <td>50</td>\n",
       "      <td>1</td>\n",
       "      <td>167</td>\n",
       "      <td>10</td>\n",
       "    </tr>\n",
       "  </tbody>\n",
       "</table>\n",
       "</div>"
      ],
      "text/plain": [
       "   0    1    2    279\n",
       "0   75    0  190    8\n",
       "1   56    1  165    6\n",
       "2   54    0  172   10\n",
       "3   55    0  175    1\n",
       "4   75    0  190    7\n",
       "5   13    0  169   14\n",
       "6   40    1  160    1\n",
       "7   49    1  162    1\n",
       "8   44    0  168    1\n",
       "9   50    1  167   10"
      ]
     },
     "execution_count": 31,
     "metadata": {},
     "output_type": "execute_result"
    }
   ],
   "source": [
    "dsmall"
   ]
  },
  {
   "cell_type": "code",
   "execution_count": 142,
   "metadata": {},
   "outputs": [],
   "source": [
    "class Node(object):\n",
    "    def __init__(self, name, node_type, data, label=None, split=None):\n",
    "        self.name = name\n",
    "        self.node_type = node_type\n",
    "        self.label = label\n",
    "        self.data = data\n",
    "        self.split = split\n",
    "        self.children = []\n",
    "        \n",
    "    def __repr__(self):\n",
    "        data = self.data\n",
    "        if self.node_type != 'leaf':\n",
    "            s = (f\"{self.name} Internal node with {data[data.columns[0]].count()} rows; split\" \n",
    "                f\" {self.split.split_column} at {self.split.point:.2f} for children with\" \n",
    "                f\" {[p[p.columns[0]].count() for p in self.split.partitions()]} rows\"\n",
    "                f\" and infomation gain {self.split.info_gain:.5f}\")\n",
    "        else:\n",
    "            s = (f\"{self.name} Leaf with {data[data.columns[0]].count()} rows, and label\"\n",
    "                 f\" {self.label}\")\n",
    "        return s\n",
    "                                    \n",
    "class Split(object):\n",
    "    def __init__(self, data, class_column, split_column, point=None):\n",
    "        self.data = data\n",
    "        self.class_column = class_column\n",
    "        self.split_column = split_column\n",
    "        self.info_gain = None\n",
    "        self.point = point\n",
    "        self.partition_list = None # stores the data points on each side of the split\n",
    "        self.find_split_point()\n",
    "        self.partitions()\n",
    "    \n",
    "    \n",
    "    def compute_entropy(self, data):\n",
    "        data = data.astype(int)\n",
    "        #unique, count = np.unique(data, return_counts=True)\n",
    "        count = np.bincount(data)\n",
    "        count = count[count != 0]\n",
    "        p = count / np.sum(count)\n",
    "        return -np.sum(p * np.log2(p))\n",
    "      \n",
    "    def compute_info_gain(self, neg, pos):\n",
    "      \n",
    "        data = self.data[self.class_column].values.astype(int)\n",
    "        H0 = self.compute_entropy(data)\n",
    "        p_neg = len(neg) / len(data)\n",
    "        p_pos = len(pos) / len(data)\n",
    "        H_n = p_neg * self.compute_entropy(neg)\n",
    "        H_p = p_pos * self.compute_entropy(pos)\n",
    "        Ha = H_p + H_n\n",
    "        return H0 - Ha\n",
    "    \n",
    "    def find_split_point(self):\n",
    "        data = self.data[[self.split_column, self.class_column]].values \n",
    "        attr_value = data[data[:,0].argsort()][:,0]\n",
    "        idx = data[data[:,0].argsort()][:,-1]\n",
    "        max_IG = -np.inf  \n",
    "        for i in range(len(attr_value) - 1):\n",
    "            if attr_value[i] != attr_value[i + 1] and idx[i] != idx[i + 1]:\n",
    "                \n",
    "                split_point = (attr_value[i] + attr_value[i + 1]) / 2\n",
    "                neg = idx[:i+1]\n",
    "                pos = idx[i+1:]\n",
    "                \n",
    "                if self.compute_info_gain(neg, pos) > max_IG:\n",
    "                    max_IG = self.compute_info_gain(neg, pos)\n",
    "                    self.point = split_point\n",
    "        self.info_gain = max_IG\n",
    "        \n",
    "    def partitions(self):\n",
    "        '''Get the two partitions (child nodes) for this split.'''\n",
    "        if self.partition_list:\n",
    "            # This check ensures that the list is computed at most once.  Once computed \n",
    "            # it is stored\n",
    "            return self.partition_list\n",
    "        data = self.data\n",
    "        split_column = self.split_column\n",
    "        partition_list = []\n",
    "        partition_list.append(data[data[split_column] <= self.point])\n",
    "        partition_list.append(data[data[split_column] > self.point])\n",
    "        self.partition_list = partition_list"
   ]
  },
  {
   "cell_type": "code",
   "execution_count": 143,
   "metadata": {},
   "outputs": [
    {
     "name": "stdout",
     "output_type": "stream",
     "text": [
      "15.5\n",
      "CPU times: user 10.7 ms, sys: 2.87 ms, total: 13.6 ms\n",
      "Wall time: 11.1 ms\n"
     ]
    }
   ],
   "source": [
    "%%time \n",
    "print(Split(df, 279, 0).point)"
   ]
  },
  {
   "cell_type": "code",
   "execution_count": 138,
   "metadata": {},
   "outputs": [],
   "source": [
    "class DecisionTree(object):\n",
    "\n",
    "    def __init__(self, max_depth=None):\n",
    "        if (max_depth is not None and (max_depth != int(max_depth) or max_depth < 0)):\n",
    "            raise Exception(\"Invalid max depth value.\")\n",
    "        self.max_depth = max_depth\n",
    "        \n",
    "\n",
    "    def fit(self, data, class_column):\n",
    "        '''Fit a tree on data, in which class_column is the target.'''\n",
    "        if (not isinstance(data, pd.DataFrame) or class_column not in data.columns):\n",
    "            raise Exception(\"Invalid input\")\n",
    "            \n",
    "        self.data = data\n",
    "        self.class_column = class_column\n",
    "        self.non_class_columns = [c for c in data.columns if c != class_column]\n",
    "        self.root = self.recursive_build_tree(data, data, depth=0, attributes=self.non_class_columns, name='0')\n",
    "  \n",
    "    # Node __init__(self, name, node_type, data, label=None, split=None)\n",
    "    def recursive_build_tree(self, data, parent_data, depth, attributes, name):\n",
    "        \n",
    "         if len(data) == 0: # data set is empty\n",
    "            return Node(name=name, node_type='leaf', label=self.plurality_value(parent_data), \n",
    "                        data=data)\n",
    "        \n",
    "         elif depth == self.max_depth : # reach the max depth of the tree, can not split\n",
    "            return Node(name=name, node_type='leaf', label=self.plurality_value(data), \n",
    "                        data=data)\n",
    "         elif np.all(data[self.class_column].values == data[self.class_column].values[0]):\n",
    "            return Node(name=name, node_type='leaf', label= list(set(data[self.class_column].values))[0], data=data)\n",
    "        \n",
    "         elif len(attributes) == 0: # only has the class column, no attribute\n",
    "            return Node(name=name, node_type='leaf', label=self.plurality_value(data), \n",
    "                        data=data)\n",
    "        #a[(a[:, np.newaxis] == a).all(axis=2).sum(axis=1) <= 1]\n",
    "         elif len(data[attributes].drop_duplicates()) == 1: # noise data\n",
    "        #elif len(data.values[(data.values[:, np.newaxis] == data.values).all(axis=2).sum(axis=1) <= 1]) == 1:\n",
    "            return Node(name=name, node_type='leaf', label=self.plurality_value(data), \n",
    "                        data=data)\n",
    "        \n",
    "         else:\n",
    "            split = None          \n",
    "            for attribute in attributes: \n",
    "                temp_split = Split(data, self.class_column, attribute)     \n",
    "                # set the split with higher info gain as the true split\n",
    "                if not split or temp_split.info_gain > split.info_gain:\n",
    "                    split = temp_split          \n",
    "            root = Node(name=name, node_type='interval', data=data, split=split)\n",
    "            non_class_columns = attributes\n",
    "            \n",
    "            if len(set(data[self.class_column].values)) == 2: # the attribute is discrete\n",
    "                attributes = [c for c in attributes if c != root.split.split_column]\n",
    "            \n",
    "            # recursive_build_tree(self, data, parent_data, depth, attributes, name)\n",
    "            root.children.append(self.recursive_build_tree(root.split.partition_list[0][attributes +[self.class_column]], data, depth + 1, attributes, name + '.0')) \n",
    "            root.children.append(self.recursive_build_tree(root.split.partition_list[1][attributes +[self.class_column]], data, depth + 1, attributes, name + '.1'))\n",
    "            \n",
    "            return root\n",
    "    \n",
    "    def predict(self, test):\n",
    "\n",
    "        # WRITE YOUR CODE HERE\n",
    "        res = []\n",
    "        test = test.values\n",
    "        for i in range(len(test)):\n",
    "            node = self.root\n",
    "            while node.node_type != 'leaf':\n",
    "                split = node.split\n",
    "                #if test[split.split_column][i] <= split.point:\n",
    "                if test[i, split.split_column] <= split.point:\n",
    "                    node = node.children[0]\n",
    "                else:\n",
    "                    node = node.children[1]\n",
    "            res.append(node.label)\n",
    "        return res\n",
    "    \n",
    "    def plurality_value(self, data):\n",
    "        #return data[self.class_column].value_counts().idxmax()\n",
    "        return np.argmax(np.bincount(data[self.class_column].astype(int).values))\n",
    "                \n",
    "    def print(self):\n",
    "        self.recursive_print(self.root)\n",
    "    \n",
    "    def recursive_print(self, node):\n",
    "        print(node)\n",
    "        for u in node.children:\n",
    "            self.recursive_print(u)  "
   ]
  },
  {
   "cell_type": "code",
   "execution_count": 139,
   "metadata": {
    "scrolled": true
   },
   "outputs": [
    {
     "name": "stdout",
     "output_type": "stream",
     "text": [
      "0 Internal node with 10 rows; split 0 at 55.50 for children with [7, 3] rows and infomation gain 0.88129\n",
      "0.0 Internal node with 7 rows; split 0 at 26.50 for children with [1, 6] rows and infomation gain 0.59167\n",
      "0.0.0 Leaf with 1 rows, and label 14\n",
      "0.0.1 Internal node with 6 rows; split 0 at 49.50 for children with [3, 3] rows and infomation gain 0.45915\n",
      "0.0.1.0 Leaf with 3 rows, and label 1\n",
      "0.0.1.1 Leaf with 3 rows, and label 10\n",
      "0.1 Internal node with 3 rows; split 0 at 65.50 for children with [1, 2] rows and infomation gain 0.91830\n",
      "0.1.0 Leaf with 1 rows, and label 6\n",
      "0.1.1 Leaf with 2 rows, and label 7\n"
     ]
    }
   ],
   "source": [
    "tree = tree = DecisionTree(3)\n",
    "tree.fit(dsmall, 279)\n",
    "tree.print()\n",
    "\n",
    "# For above your should get the following\n",
    "# 0 Internal node with 10 rows; split 0 at 55.50 for children with [7, 3] rows and gain 0.88129\n",
    "# 0.0 Internal node with 7 rows; split 0 at 26.50 for children with [1, 6] rows and gain 0.59167\n",
    "# 0.0.0 Leaf with 1 rows, and label 14\n",
    "# 0.0.1 Internal node with 6 rows; split 0 at 49.50 for children with [3, 3] rows and gain 0.45915\n",
    "# 0.0.1.0 Leaf with 3 rows, and label 1\n",
    "# 0.0.1.1 Leaf with 3 rows, and label 10\n",
    "# 0.1 Internal node with 3 rows; split 0 at 65.50 for children with [1, 2] rows and gain 0.91830\n",
    "# 0.1.0 Leaf with 1 rows, and label 6\n",
    "# 0.1.1 Leaf with 2 rows, and label 7\n",
    "#\n"
   ]
  },
  {
   "cell_type": "code",
   "execution_count": 140,
   "metadata": {},
   "outputs": [],
   "source": [
    "%matplotlib inline\n",
    "def validation_curve():\n",
    "    url = \"https://archive.ics.uci.edu/ml/machine-learning-databases/arrhythmia/arrhythmia.data\"\n",
    "    df = pd.read_csv(url, header = None, na_values=\"?\")\n",
    "    MAX_DEPTH = 20\n",
    "    NUMBER_OF_COLUMNS = 278\n",
    "    NUMBER_OF_ROWS = len(df) \n",
    "    \n",
    "    CLASS_COLUMN = 279\n",
    "    \n",
    "    # fill the empty value\n",
    "    for i in range(280):\n",
    "        if df[i].isnull().sum() > 0:\n",
    "            df.iloc[:,i].fillna(df[i].mode()[0], inplace=True)\n",
    "    \n",
    "    df = df.iloc[:NUMBER_OF_ROWS,list(range(NUMBER_OF_COLUMNS)) + [CLASS_COLUMN]]\n",
    "    # shuffle the data\n",
    "    df = df.sample(frac=1).reset_index(drop=True)\n",
    "    # split the data into 3 parts\n",
    "    datasets = np.array_split(df, 3)\n",
    "    \n",
    "    # initilize the correct ratio of training data and test data\n",
    "    training_error_ratio = []\n",
    "    test_error_ratio = []\n",
    "    for depth in range(MAX_DEPTH + 1)[2::2]:\n",
    "        # initialize the tree\n",
    "        dt = DecisionTree(depth)\n",
    "        \n",
    "        training_error_ratio_sum = 0\n",
    "        test_error_ratio_sum = 0\n",
    "        \n",
    "        for sets in [[0,1,2],[1,2,0],[0,2,1]]:\n",
    "            # get the training data and test data\n",
    "            training_data = pd.concat([datasets[sets[0]],datasets[sets[1]]])\n",
    "            test_data = datasets[sets[2]]\n",
    "            # train the model\n",
    "            dt.fit(training_data, CLASS_COLUMN)\n",
    "            # get the prediction result of the training data and test data\n",
    "            training_result_list = dt.predict(training_data)\n",
    "            test_result_list = dt.predict(test_data)\n",
    "            \n",
    "            training_error_ratio_sum += 1 - np.sum(training_result_list == \n",
    "                                                 training_data[CLASS_COLUMN]) / len(training_data)\n",
    "            test_error_ratio_sum += 1 - np.sum(test_result_list == test_data[CLASS_COLUMN]) / len(test_data)\n",
    "        training_error_ratio.append(training_error_ratio_sum / 3)\n",
    "        test_error_ratio.append(test_error_ratio_sum / 3)\n",
    "        \n",
    "        print('layers ' + str(depth))\n",
    "        \n",
    "    x = range(MAX_DEPTH + 1)[2::2]\n",
    "    plt.ylabel(\"$error \\ ratio$\")\n",
    "    plt.xlabel(\"$depth$\")\n",
    "    plt.plot(x, training_error_ratio, label='training')\n",
    "    plt.plot(x, test_error_ratio, label='test')\n",
    "    plt.legend()\n"
   ]
  },
  {
   "cell_type": "code",
   "execution_count": 141,
   "metadata": {},
   "outputs": [
    {
     "name": "stdout",
     "output_type": "stream",
     "text": [
      "layers 2\n",
      "layers 4\n",
      "layers 6\n",
      "layers 8\n",
      "layers 10\n",
      "layers 12\n",
      "layers 14\n",
      "layers 16\n",
      "layers 18\n",
      "layers 20\n",
      "CPU times: user 11min 42s, sys: 5.51 s, total: 11min 48s\n",
      "Wall time: 12min\n"
     ]
    },
    {
     "data": {
      "image/png": "[encoded data removed]",
      "text/plain": [
       "<matplotlib.figure.Figure at 0x115c7e668>"
      ]
     },
     "metadata": {},
     "output_type": "display_data"
    }
   ],
   "source": [
    "%%time\n",
    "validation_curve()"
   ]
  },
  {
   "cell_type": "code",
   "execution_count": 89,
   "metadata": {},
   "outputs": [
    {
     "data": {
      "text/plain": [
       "array([[1, 2, 3, 4],\n",
       "       [2, 2, 2, 2],\n",
       "       [3, 2, 5, 7],\n",
       "       [6, 2, 9, 9]])"
      ]
     },
     "execution_count": 89,
     "metadata": {},
     "output_type": "execute_result"
    }
   ],
   "source": [
    "a = np.array([[1,2,3,4], [2,2,2,2], [3,2,5,7], [6,2,9,9]])\n",
    "a"
   ]
  },
  {
   "cell_type": "code",
   "execution_count": 54,
   "metadata": {},
   "outputs": [
    {
     "data": {
      "text/plain": [
       "array([1, 2, 1, 1])"
      ]
     },
     "execution_count": 54,
     "metadata": {},
     "output_type": "execute_result"
    }
   ],
   "source": [
    "u, count = np.unique(a, return_counts = True)\n",
    "count"
   ]
  },
  {
   "cell_type": "code",
   "execution_count": 56,
   "metadata": {},
   "outputs": [
    {
     "data": {
      "text/plain": [
       "array([1, 7, 8, 9])"
      ]
     },
     "execution_count": 56,
     "metadata": {},
     "output_type": "execute_result"
    }
   ],
   "source": [
    "\n",
    "q = np.zeros(256, dtype=int)\n",
    "q[a.ravel()] = 1\n",
    "v = np.nonzero(q)[0]\n",
    "v"
   ]
  },
  {
   "cell_type": "code",
   "execution_count": 57,
   "metadata": {},
   "outputs": [
    {
     "data": {
      "text/plain": [
       "array([9, 8, 7, 7, 1], dtype=uint8)"
      ]
     },
     "execution_count": 57,
     "metadata": {},
     "output_type": "execute_result"
    }
   ],
   "source": [
    "a.ravel()"
   ]
  },
  {
   "cell_type": "code",
   "execution_count": 69,
   "metadata": {},
   "outputs": [
    {
     "data": {
      "text/plain": [
       "array([0, 1, 0, 0, 0, 0, 0, 2, 1, 1])"
      ]
     },
     "execution_count": 69,
     "metadata": {},
     "output_type": "execute_result"
    }
   ],
   "source": [
    "np.bincount(a.ravel())"
   ]
  },
  {
   "cell_type": "code",
   "execution_count": 64,
   "metadata": {},
   "outputs": [
    {
     "data": {
      "text/plain": [
       "array([9, 8, 7, 7, 1], dtype=uint8)"
      ]
     },
     "execution_count": 64,
     "metadata": {},
     "output_type": "execute_result"
    }
   ],
   "source": [
    "a"
   ]
  },
  {
   "cell_type": "code",
   "execution_count": 82,
   "metadata": {},
   "outputs": [
    {
     "data": {
      "text/plain": [
       "array([False, False, False, False])"
      ]
     },
     "execution_count": 82,
     "metadata": {},
     "output_type": "execute_result"
    }
   ],
   "source": [
    "np.all(a == a[:,1], axis = 1)"
   ]
  },
  {
   "cell_type": "code",
   "execution_count": 83,
   "metadata": {},
   "outputs": [
    {
     "data": {
      "text/plain": [
       "array([9, 9, 3, 6], dtype=uint8)"
      ]
     },
     "execution_count": 83,
     "metadata": {},
     "output_type": "execute_result"
    }
   ],
   "source": [
    "a[:,1]"
   ]
  },
  {
   "cell_type": "code",
   "execution_count": 7,
   "metadata": {},
   "outputs": [
    {
     "data": {
      "text/plain": [
       "dtype('V48')"
      ]
     },
     "execution_count": 7,
     "metadata": {},
     "output_type": "execute_result"
    }
   ],
   "source": [
    "a = np.array([[1, 2, 0, 1, 1, 1],\n",
    "       [1, 2, 0, 1, 1, 1],\n",
    "       [9, 7, 5, 3, 2, 1],\n",
    "       [1, 1, 1, 0, 0, 0],\n",
    "       [1, 2, 0, 1, 1, 1],\n",
    "       [1, 1, 1, 1, 1, 0]])\n",
    "dt = np.dtype((np.void, a.dtype.itemsize * a.shape[1]))\n",
    "dt"
   ]
  },
  {
   "cell_type": "code",
   "execution_count": 22,
   "metadata": {},
   "outputs": [
    {
     "data": {
      "text/plain": [
       "array([[9, 7, 5, 3, 2, 1],\n",
       "       [1, 1, 1, 0, 0, 0],\n",
       "       [1, 1, 1, 1, 1, 0]])"
      ]
     },
     "execution_count": 22,
     "metadata": {},
     "output_type": "execute_result"
    }
   ],
   "source": [
    "a[(a[:, np.newaxis] == a).all(axis=2).sum(axis=1) <= 1]"
   ]
  },
  {
   "cell_type": "code",
   "execution_count": null,
   "metadata": {},
   "outputs": [],
   "source": []
  }
 ],
 "metadata": {
  "anaconda-cloud": {},
  "kernelspec": {
   "display_name": "Python 3",
   "language": "python",
   "name": "python3"
  },
  "language_info": {
   "codemirror_mode": {
    "name": "ipython",
    "version": 3
   },
   "file_extension": ".py",
   "mimetype": "text/x-python",
   "name": "python",
   "nbconvert_exporter": "python",
   "pygments_lexer": "ipython3",
   "version": "3.6.3"
  }
 },
 "nbformat": 4,
 "nbformat_minor": 1
}
